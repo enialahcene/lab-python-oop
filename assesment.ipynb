{
 "cells": [
  {
   "cell_type": "code",
   "execution_count": 6,
   "metadata": {},
   "outputs": [
    {
     "name": "stdout",
     "output_type": "stream",
     "text": [
      "1\n"
     ]
    }
   ],
   "source": [
    "list = [-1,2,3,6,7,5,3,5]\n",
    "list.sort()\n",
    "sum=list[0]+list[1]\n",
    "print(sum)"
   ]
  },
  {
   "cell_type": "code",
   "execution_count": 7,
   "metadata": {},
   "outputs": [
    {
     "name": "stdout",
     "output_type": "stream",
     "text": [
      "5\n"
     ]
    }
   ],
   "source": [
    "newlist=[]\n",
    "for i in list:\n",
    "    if i>0:\n",
    "        newlist.append(i)\n",
    "sum2=newlist[0]+newlist[1]\n",
    "\n",
    "print(sum2)\n",
    "    "
   ]
  },
  {
   "cell_type": "code",
   "execution_count": 18,
   "metadata": {},
   "outputs": [
    {
     "ename": "SyntaxError",
     "evalue": "cannot assign to function call here. Maybe you meant '==' instead of '='? (3695147094.py, line 11)",
     "output_type": "error",
     "traceback": [
      "\u001b[1;36m  Cell \u001b[1;32mIn[18], line 11\u001b[1;36m\u001b[0m\n\u001b[1;33m    if len(pares) = 1:\u001b[0m\n\u001b[1;37m       ^\u001b[0m\n\u001b[1;31mSyntaxError\u001b[0m\u001b[1;31m:\u001b[0m cannot assign to function call here. Maybe you meant '==' instead of '='?\n"
     ]
    }
   ],
   "source": [
    "List = [1,3,5,7,9,2]\n",
    "\n",
    "pares = []\n",
    "impares = []\n",
    "\n",
    "for i in List:\n",
    "    if i % 2 == 0:\n",
    "        pares.append(i)\n",
    "    else:\n",
    "        impares.append(i)\n",
    "if len(pares) == 1:\n",
    "    N = pares\n",
    "else:\n",
    "    N = impares\n",
    "\n",
    "print(N)\n",
    "\n",
    "\n",
    "\n"
   ]
  },
  {
   "cell_type": "code",
   "execution_count": 25,
   "metadata": {},
   "outputs": [
    {
     "name": "stdout",
     "output_type": "stream",
     "text": [
      "[1, 3, 5, 7, 9, 2]\n"
     ]
    }
   ],
   "source": [
    "List = [1,3,5,7,9,2]\n",
    "\n",
    "pares = []\n",
    "impares = []\n",
    "\n",
    "for i in List:\n",
    "    try:\n",
    "        i % 2 == 0\n",
    "        pares.append(i)\n",
    "    except AssertionError as e:\n",
    "        impares.append(i)\n",
    "try:\n",
    "    len(pares) == 1\n",
    "    N = pares\n",
    "except AssertionError as e:\n",
    "    N = impares\n",
    "\n",
    "print(N)"
   ]
  },
  {
   "cell_type": "code",
   "execution_count": 29,
   "metadata": {},
   "outputs": [],
   "source": [
    "for i in List:\n",
    "    try:\n",
    "        i % 2 == 0\n",
    "        pares.append(i)\n",
    "    except AssertionError as e:\n",
    "        print(pares)"
   ]
  },
  {
   "cell_type": "code",
   "execution_count": 30,
   "metadata": {},
   "outputs": [
    {
     "data": {
      "text/plain": [
       "False"
      ]
     },
     "execution_count": 30,
     "metadata": {},
     "output_type": "execute_result"
    }
   ],
   "source": [
    "1%2==0"
   ]
  },
  {
   "cell_type": "code",
   "execution_count": 31,
   "metadata": {},
   "outputs": [
    {
     "name": "stdout",
     "output_type": "stream",
     "text": [
      "3\n"
     ]
    }
   ],
   "source": [
    "def find_outlier(List):\n",
    "    evens = [num for num in List[:3] if num % 2 == 0]\n",
    "    is_majority_even = len(evens) > 1\n",
    "    \n",
    "    if is_majority_even:\n",
    "        for num in arr:\n",
    "            if num % 2 != 0:\n",
    "                return num\n",
    "    else:\n",
    "        for num in arr:\n",
    "            if num % 2 == 0:\n",
    "                return num\n",
    "\n",
    "# Ejemplo de uso:\n",
    "arr = [2, 4, 6, 8, 10, 3]\n",
    "print(find_outlier(arr))  # Output: 3\n"
   ]
  },
  {
   "cell_type": "code",
   "execution_count": 86,
   "metadata": {},
   "outputs": [
    {
     "name": "stdout",
     "output_type": "stream",
     "text": [
      "[(1, 4), (2, 5), (3, 6)]\n"
     ]
    }
   ],
   "source": [
    "ar1 = \"\"\n",
    "ar2 = \"\"\n",
    "\n",
    "list1=[1,2,3]\n",
    "list2=[4,5,6]\n",
    "\n",
    "lista=[(i,j) for i,j in zip(list1,list2)]\n",
    "\n",
    "\n",
    "\n",
    "print(lista)"
   ]
  },
  {
   "cell_type": "code",
   "execution_count": 88,
   "metadata": {},
   "outputs": [
    {
     "name": "stdout",
     "output_type": "stream",
     "text": [
      "adbecf\n",
      "adbecfugk\n"
     ]
    }
   ],
   "source": [
    "a = \"abcgugk\"\n",
    "b = \"def\"\n",
    "\n",
    "mergedString=[]\n",
    "\n",
    "length1 = len(a)\n",
    "lenght2 = len(b)\n",
    "\n",
    "\n",
    "\n",
    "for i,j in zip(a,b):\n",
    "    mergedString.append(i+j)\n",
    "print(''.join(mergedString))\n",
    "\n",
    "\n",
    "if lenght2>length1:\n",
    "    mergedString.append(b[len(a)+1:])\n",
    "    print(''.join(mergedString))\n",
    "else:\n",
    "    mergedString.append(a[len(b)+1:])\n",
    "    print(''.join(mergedString))\n",
    "\n",
    "\n",
    "\n",
    "\n"
   ]
  },
  {
   "cell_type": "code",
   "execution_count": 90,
   "metadata": {},
   "outputs": [
    {
     "name": "stdout",
     "output_type": "stream",
     "text": [
      "adbecfugk\n"
     ]
    }
   ],
   "source": [
    "a = \"abcgugk\"\n",
    "b = \"def\"\n",
    "\n",
    "mergedString=[]\n",
    "\n",
    "length1 = len(a)\n",
    "lenght2 = len(b)\n",
    "[mergedString.append(i+j) for i,j in zip(a,b)]\n",
    "if lenght2>length1:\n",
    "    mergedString.append(b[len(a)+1:])\n",
    "    print(''.join(mergedString))\n",
    "else:\n",
    "    mergedString.append(a[len(b)+1:])\n",
    "    print(''.join(mergedString))"
   ]
  },
  {
   "cell_type": "code",
   "execution_count": 46,
   "metadata": {},
   "outputs": [
    {
     "data": {
      "text/plain": [
       "'ae'"
      ]
     },
     "execution_count": 46,
     "metadata": {},
     "output_type": "execute_result"
    }
   ],
   "source": [
    "ar1[0]+ar2[1]"
   ]
  },
  {
   "cell_type": "code",
   "execution_count": 57,
   "metadata": {},
   "outputs": [
    {
     "name": "stdout",
     "output_type": "stream",
     "text": [
      "3\n"
     ]
    }
   ],
   "source": [
    "num=2\n",
    "num += 1\n",
    "\n",
    "print(num)"
   ]
  },
  {
   "cell_type": "code",
   "execution_count": 95,
   "metadata": {},
   "outputs": [
    {
     "name": "stdout",
     "output_type": "stream",
     "text": [
      "adbecfugkadbecfadbecfadbecf\n"
     ]
    }
   ],
   "source": [
    "a=\"\"\n",
    "b=\"\"\n",
    "\n",
    "def merge_strings(a: str, b: str) -> str:\n",
    "    length1 = len(a)\n",
    "    lenght2 = len(b)\n",
    "    [mergedString.append(i+j) for i,j in zip(a,b)]\n",
    "    if lenght2>length1:\n",
    "      mergedString.append(b[len(a)+1:])\n",
    "      return ''.join(mergedString)\n",
    "    else:\n",
    "      mergedString.append(a[len(b)+1:])\n",
    "      return ''.join(mergedString)\n",
    "    \n",
    "list = merge_strings(a,b)\n",
    "\n",
    "print(list)"
   ]
  },
  {
   "cell_type": "code",
   "execution_count": 98,
   "metadata": {},
   "outputs": [
    {
     "name": "stdout",
     "output_type": "stream",
     "text": [
      "adbecfdddfef\n"
     ]
    }
   ],
   "source": [
    "a=\"abc\"\n",
    "b=\"defdddfef\"\n",
    "\n",
    "def merge_strings(a: str, b: str) -> str:\n",
    "    mergedString=[]\n",
    "    lenght_a = len(a)\n",
    "    lenght_b = len(b)\n",
    "    for i in range(min(lenght_a, lenght_b)):\n",
    "        mergedString.append(a[i])\n",
    "        mergedString.append(b[i])\n",
    "    if lenght_a > lenght_b:\n",
    "        mergedString.append(a[lenght_b:])\n",
    "    else:\n",
    "        mergedString.append(b[lenght_a:])\n",
    "    return ''.join(mergedString)\n",
    "\n",
    "\n",
    "list = merge_strings(a,b)\n",
    "\n",
    "print(list)"
   ]
  },
  {
   "cell_type": "code",
   "execution_count": 105,
   "metadata": {},
   "outputs": [],
   "source": [
    "def high_and_low(numbers: str) -> str:\n",
    "   return max(numbers),min(numbers)"
   ]
  },
  {
   "cell_type": "code",
   "execution_count": 106,
   "metadata": {},
   "outputs": [
    {
     "name": "stdout",
     "output_type": "stream",
     "text": [
      "(4, 1)\n"
     ]
    }
   ],
   "source": [
    "ok=high_and_low(numbers=[1,2,3,4])\n",
    "\n",
    "print(ok)"
   ]
  },
  {
   "cell_type": "code",
   "execution_count": 107,
   "metadata": {},
   "outputs": [
    {
     "ename": "TypeError",
     "evalue": "'str' object is not callable",
     "output_type": "error",
     "traceback": [
      "\u001b[1;31m---------------------------------------------------------------------------\u001b[0m",
      "\u001b[1;31mTypeError\u001b[0m                                 Traceback (most recent call last)",
      "Cell \u001b[1;32mIn[107], line 7\u001b[0m\n\u001b[0;32m      3\u001b[0m     \u001b[38;5;28;01mreturn\u001b[39;00m \u001b[38;5;28mmax\u001b[39m(nums),\u001b[38;5;28mmin\u001b[39m(nums)\n\u001b[0;32m      5\u001b[0m numbers\u001b[38;5;241m=\u001b[39m\u001b[38;5;124m\"\u001b[39m\u001b[38;5;124m1 2 3 4 5\u001b[39m\u001b[38;5;124m\"\u001b[39m\n\u001b[1;32m----> 7\u001b[0m fu \u001b[38;5;241m=\u001b[39m \u001b[43mhigh_and_low\u001b[49m\u001b[43m(\u001b[49m\u001b[43mnumbers\u001b[49m\u001b[43m)\u001b[49m\n\u001b[0;32m      9\u001b[0m \u001b[38;5;28mprint\u001b[39m(fu)\n",
      "Cell \u001b[1;32mIn[107], line 2\u001b[0m, in \u001b[0;36mhigh_and_low\u001b[1;34m(numbers)\u001b[0m\n\u001b[0;32m      1\u001b[0m \u001b[38;5;28;01mdef\u001b[39;00m \u001b[38;5;21mhigh_and_low\u001b[39m(numbers: \u001b[38;5;28mstr\u001b[39m) \u001b[38;5;241m-\u001b[39m\u001b[38;5;241m>\u001b[39m \u001b[38;5;28mstr\u001b[39m:\n\u001b[1;32m----> 2\u001b[0m     nums \u001b[38;5;241m=\u001b[39m \u001b[38;5;28;43mlist\u001b[39;49m\u001b[43m(\u001b[49m\u001b[38;5;28;43mmap\u001b[39;49m\u001b[43m(\u001b[49m\u001b[38;5;28;43mint\u001b[39;49m\u001b[43m,\u001b[49m\u001b[43m \u001b[49m\u001b[43mnumbers\u001b[49m\u001b[38;5;241;43m.\u001b[39;49m\u001b[43msplit\u001b[49m\u001b[43m(\u001b[49m\u001b[43m)\u001b[49m\u001b[43m)\u001b[49m\u001b[43m)\u001b[49m \n\u001b[0;32m      3\u001b[0m     \u001b[38;5;28;01mreturn\u001b[39;00m \u001b[38;5;28mmax\u001b[39m(nums),\u001b[38;5;28mmin\u001b[39m(nums)\n",
      "\u001b[1;31mTypeError\u001b[0m: 'str' object is not callable"
     ]
    }
   ],
   "source": [
    "def high_and_low(numbers: str) -> str:\n",
    "    nums = list(map(int, numbers.split())) \n",
    "    return max(nums),min(nums)\n",
    "\n",
    "numbers=\"1 2 3 4 5\"\n",
    "\n",
    "fu = high_and_low(numbers)\n",
    "\n",
    "print(fu)"
   ]
  },
  {
   "cell_type": "code",
   "execution_count": null,
   "metadata": {},
   "outputs": [],
   "source": [
    "def first_non_repeating_letter(s: str) -> str:\n",
    "    \n",
    "    return \"\""
   ]
  },
  {
   "cell_type": "code",
   "execution_count": 109,
   "metadata": {},
   "outputs": [
    {
     "ename": "SyntaxError",
     "evalue": "invalid syntax (3666938072.py, line 4)",
     "output_type": "error",
     "traceback": [
      "\u001b[1;36m  Cell \u001b[1;32mIn[109], line 4\u001b[1;36m\u001b[0m\n\u001b[1;33m    if i !== i+1:\u001b[0m\n\u001b[1;37m           ^\u001b[0m\n\u001b[1;31mSyntaxError\u001b[0m\u001b[1;31m:\u001b[0m invalid syntax\n"
     ]
    }
   ],
   "source": [
    "s=\"stress\"\n",
    "\n",
    "for i in s:\n",
    "    if i !== i+1:\n",
    "        print(i)"
   ]
  },
  {
   "cell_type": "code",
   "execution_count": 112,
   "metadata": {},
   "outputs": [
    {
     "name": "stdout",
     "output_type": "stream",
     "text": [
      "T\n",
      "\n"
     ]
    }
   ],
   "source": [
    "def first_non_repeating_letter(s: str) -> str:\n",
    "    lower_s = s.lower()\n",
    "    char_count = {}\n",
    "    \n",
    "    for char in lower_s:\n",
    "        char_count[char] = char_count.get(char, 0) + 1\n",
    "    \n",
    "    for index, char in enumerate(lower_s):\n",
    "        if char_count[char] == 1:\n",
    "            return s[index]\n",
    "    return \"\"\n",
    "\n",
    "# Ejemplo de uso:\n",
    "print(first_non_repeating_letter('sTreSS'))  # Output: 'T'\n",
    "print(first_non_repeating_letter('aabbcc'))  # Output: ''\n"
   ]
  }
 ],
 "metadata": {
  "kernelspec": {
   "display_name": "Python 3",
   "language": "python",
   "name": "python3"
  },
  "language_info": {
   "codemirror_mode": {
    "name": "ipython",
    "version": 3
   },
   "file_extension": ".py",
   "mimetype": "text/x-python",
   "name": "python",
   "nbconvert_exporter": "python",
   "pygments_lexer": "ipython3",
   "version": "3.10.0"
  }
 },
 "nbformat": 4,
 "nbformat_minor": 2
}
